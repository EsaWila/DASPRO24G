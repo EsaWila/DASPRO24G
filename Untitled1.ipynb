{
 "cells": [
  {
   "cell_type": "markdown",
   "id": "b2ecfcb1",
   "metadata": {},
   "source": [
    "<center>\n",
    "    <img src=\"https://www.google.com/imgres?q=logo%20nusa%20putra&imgurl=https%3A%2F%2Fhmti.helllo.me%2Fassets%2Flogo-about.svg&imgrefurl=https%3A%2F%2Fhmti.nusaputra.ac.id%2Flogo%2F&docid=8hXUj9x7aiKRwM&tbnid=K8B3bh8TgKzCEM&vet=12ahUKEwjhxrfHmtSLAxUhg2MGHaUyHgIQM3oECHAQAA..i&w=322&h=301&hcb=2&ved=2ahUKEwjhxrfHmtSLAxUhg2MGHaUyHgIQM3oECHAQAA"
   ]
  },
  {
   "cell_type": "markdown",
   "id": "11b4879d",
   "metadata": {},
   "source": [
    "<center>\n",
    "<img src=\"https://algorit.m/wp-content/uploads/2022/02/Python-Logo-1030x644.png\" width=\"200\">\n",
    "</center>\n",
    "<br>\n",
    "<b>Cell</b> di Jupyter ada 2 jenis :\n",
    "<ol>\n",
    "    <li>Mark Down - (M)</li>\n",
    "    <li>Code - (Y)</li>\n",
    "</ol>\n",
    "<hr>"
   ]
  },
  {
   "cell_type": "markdown",
   "id": "c891c3a9",
   "metadata": {},
   "source": [
    "cara menambahkan cell ada 2\n",
    "<ul>\n",
    "    <li>A (Abouve) di atas cell</li>\n",
    "    <li>B (Below) di bawah cell<li>\n",
    "</ul>\n",
    "<table>\n",
    "    <tr>\n",
    "        <td>NIM</td>\n",
    "        <td>:</td>\n",
    "        <td>20240040091</td>\n",
    "    </tr>\n",
    "    <tr>\n",
    "        <td>NAMA</td>\n",
    "        <td>:</td>\n",
    "        <td>Esa Wilanda Putri</td>\n",
    "    </tr>\n",
    "    <tr>\n",
    "        <td>KELAS</td>\n",
    "        <td>:</td>\n",
    "        <td>TI24G</td>\n",
    "    </tr>\n",
    "</table>"
   ]
  },
  {
   "cell_type": "code",
   "execution_count": 2,
   "id": "2727f931",
   "metadata": {},
   "outputs": [
    {
     "name": "stdout",
     "output_type": "stream",
     "text": [
      "Python is very easy\n",
      "Sekarang hari jum'at\n",
      "Deklarasi variabel \"A\"\n",
      "5\n"
     ]
    },
    {
     "data": {
      "text/plain": [
       "'54'"
      ]
     },
     "execution_count": 2,
     "metadata": {},
     "output_type": "execute_result"
    }
   ],
   "source": [
    "print(\"Python is very easy\")\n",
    "print(\"Sekarang hari jum'at\")\n",
    "print('Deklarasi variabel \"A\"')\n",
    "number = \"5\"\n",
    "print (number)\n",
    "int (number) + 10\n",
    "number + \"4\""
   ]
  },
  {
   "cell_type": "code",
   "execution_count": null,
   "id": "115b2ae8",
   "metadata": {},
   "outputs": [],
   "source": []
  }
 ],
 "metadata": {
  "kernelspec": {
   "display_name": "Python 3 (ipykernel)",
   "language": "python",
   "name": "python3"
  },
  "language_info": {
   "codemirror_mode": {
    "name": "ipython",
    "version": 3
   },
   "file_extension": ".py",
   "mimetype": "text/x-python",
   "name": "python",
   "nbconvert_exporter": "python",
   "pygments_lexer": "ipython3",
   "version": "3.9.12"
  }
 },
 "nbformat": 4,
 "nbformat_minor": 5
}
