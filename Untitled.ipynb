{
 "cells": [
  {
   "cell_type": "markdown",
   "id": "ea70bf6a",
   "metadata": {},
   "source": [
    "<center>\n",
    "<img src=\"https://www.google.com/imgres?q=monokrom&imgurl=https%3A%2F%2Fwww.lamudi.co.id%2Fjournal%2Fwp-content%2Fuploads%2F2024%2F01%2Fcontoh-desain-monokrom-1.jpg&imgrefurl=https%3A%2F%2Fwww.lamudi.co.id%2Fjournal%2Fapa-itu-monokrom%2F&docid=rhcLw7iTX2hDLM&tbnid=YWhsNpDiIOe8WM&vet=12ahUKEwj0t7nSmNSLAxVDyTgGHS59AiMQM3oECGQQAA..i&w=564&h=846&hcb=2&ved=2ahUKEwj0t7nSmNSLAxVDyTgGHS59AiMQM3oECGQQAA\" width=\"200\">"
   ]
  },
  {
   "cell_type": "code",
   "execution_count": 1,
   "id": "d559c687",
   "metadata": {},
   "outputs": [
    {
     "ename": "SyntaxError",
     "evalue": "invalid syntax (4033408237.py, line 1)",
     "output_type": "error",
     "traceback": [
      "\u001b[1;36m  Input \u001b[1;32mIn [1]\u001b[1;36m\u001b[0m\n\u001b[1;33m    <center>\u001b[0m\n\u001b[1;37m    ^\u001b[0m\n\u001b[1;31mSyntaxError\u001b[0m\u001b[1;31m:\u001b[0m invalid syntax\n"
     ]
    }
   ],
   "source": [
    "<center>\n",
    "img src=\"https://id.pinterest.com/marsellaashari/monokrom/\"\n",
    "width=\"200\""
   ]
  },
  {
   "cell_type": "code",
   "execution_count": null,
   "id": "66f2174d",
   "metadata": {},
   "outputs": [],
   "source": []
  }
 ],
 "metadata": {
  "kernelspec": {
   "display_name": "Python 3 (ipykernel)",
   "language": "python",
   "name": "python3"
  },
  "language_info": {
   "codemirror_mode": {
    "name": "ipython",
    "version": 3
   },
   "file_extension": ".py",
   "mimetype": "text/x-python",
   "name": "python",
   "nbconvert_exporter": "python",
   "pygments_lexer": "ipython3",
   "version": "3.9.12"
  }
 },
 "nbformat": 4,
 "nbformat_minor": 5
}
